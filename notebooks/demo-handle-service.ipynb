{
 "cells": [
  {
   "cell_type": "markdown",
   "id": "c4b192b0-ea5b-4a78-9357-57494b64f01a",
   "metadata": {},
   "source": [
    "# Demo for using the dummy handle service\n",
    "\n",
    "The mock handle service is started together with the docker conatiners for Kafka (`make start`).\n",
    "\n",
    "You can try the handle service in CLI with curl.\n",
    "\n",
    "Check admin user:\n",
    "```sh\n",
    "curl -X GET \"http://localhost:8000/api/handles/21.TEST/testuser\"\n",
    "```\n",
    "\n",
    "Register dummy handle:\n",
    "```sh\n",
    "curl -X PUT \"http://localhost:8000/api/handles/21.TEST/test_1001?overwrite=true\" \\\n",
    "  -H \"Content-Type: application/json\" \\\n",
    "  -d '{\n",
    "    \"values\": [\n",
    "      {\n",
    "        \"index\": 1,\n",
    "        \"type\": \"URL\",\n",
    "        \"data\": {\n",
    "          \"value\": \"https://example.org/location/1001\"\n",
    "        }\n",
    "      }\n",
    "    ]\n",
    "  }'\n",
    "```\n",
    "\n",
    "Get dummy handle:\n",
    "```sh\n",
    "curl -X GET \"http://localhost:8000/api/handles/21.TEST/test_1001\"\n",
    "```"
   ]
  },
  {
   "cell_type": "markdown",
   "id": "b06385d2-66c7-4746-85a0-3b7ce9360417",
   "metadata": {},
   "source": [
    "## Use Python to interact with handle service\n",
    "\n",
    "Handle Client:\n",
    "\n",
    "https://pypi.org/project/pyhandle/"
   ]
  },
  {
   "cell_type": "code",
   "execution_count": 1,
   "id": "31ba2a83-4344-456e-bf8a-98624b96f409",
   "metadata": {},
   "outputs": [],
   "source": [
    "import requests\n",
    "import json"
   ]
  },
  {
   "cell_type": "code",
   "execution_count": 2,
   "id": "7a901874-1937-4ff5-b215-3ad246c077f0",
   "metadata": {},
   "outputs": [],
   "source": [
    "# Base URL of the Handle API\n",
    "handle_api = \"http://localhost:8000/api/handles\"\n",
    "handle_prefix = \"21.TEST\""
   ]
  },
  {
   "cell_type": "markdown",
   "id": "ee54868b-f6a9-4bc2-b57d-5106102bc0c7",
   "metadata": {},
   "source": [
    "### Check admin user"
   ]
  },
  {
   "cell_type": "code",
   "execution_count": 3,
   "id": "75fa744a-1075-4a02-be57-9c536a6af4dc",
   "metadata": {},
   "outputs": [
    {
     "name": "stdout",
     "output_type": "stream",
     "text": [
      "Admin user check:\n",
      "Status code: 200\n",
      "Response body: {\n",
      "  \"handle\": \"21.TEST/testuser\",\n",
      "  \"responseCode\": 1,\n",
      "  \"values\": [\n",
      "    {\n",
      "      \"data\": {\n",
      "        \"format\": \"admin\",\n",
      "        \"value\": {\n",
      "          \"handle\": \"0.NA/21.TEST\",\n",
      "          \"index\": \"200\",\n",
      "          \"permissions\": \"011111110011\"\n",
      "        }\n",
      "      },\n",
      "      \"index\": 100,\n",
      "      \"type\": \"HS_ADMIN\"\n",
      "    }\n",
      "  ]\n",
      "}\n",
      "\n"
     ]
    }
   ],
   "source": [
    "user = \"testuser\"\n",
    "response = requests.get(f\"{handle_api}/{handle_prefix}/{user}\")\n",
    "print(\"Admin user check:\")\n",
    "print(\"Status code:\", response.status_code)\n",
    "print(\"Response body:\", response.text)\n"
   ]
  },
  {
   "cell_type": "markdown",
   "id": "2d073931-7662-4ee2-8b12-3bb260a6c730",
   "metadata": {},
   "source": [
    "### Register dummy handle"
   ]
  },
  {
   "cell_type": "code",
   "execution_count": 4,
   "id": "0689406e-cdb9-4435-ae39-65bf9c6d0eaf",
   "metadata": {},
   "outputs": [
    {
     "name": "stdout",
     "output_type": "stream",
     "text": [
      "Register dummy handle:\n",
      "Status code: 200\n",
      "Response body: {\n",
      "  \"handle\": \"21.TEST/test_1001\",\n",
      "  \"message\": \"Handle 21.TEST/test_1001 registered\",\n",
      "  \"responseCode\": 1\n",
      "}\n",
      "\n"
     ]
    }
   ],
   "source": [
    "handle_id = \"test_1001\"\n",
    "register_url = f\"{handle_api}/{handle_prefix}/{handle_id}?overwrite=true\"\n",
    "headers = {\"Content-Type\": \"application/json\"}\n",
    "payload = {\n",
    "    \"values\": [\n",
    "        {\n",
    "            \"index\": 1,\n",
    "            \"type\": \"URL\",\n",
    "            \"data\": {\n",
    "                \"value\": \"https://example.org/location/1001\"\n",
    "            }\n",
    "        }\n",
    "    ]\n",
    "}\n",
    "\n",
    "response = requests.put(register_url, headers=headers, data=json.dumps(payload))\n",
    "print(\"Register dummy handle:\")\n",
    "print(\"Status code:\", response.status_code)\n",
    "print(\"Response body:\", response.text)\n"
   ]
  },
  {
   "cell_type": "markdown",
   "id": "6d736dc8-2ae0-4312-923b-4e3ddb02cfdb",
   "metadata": {},
   "source": [
    "### Get dummy handle"
   ]
  },
  {
   "cell_type": "code",
   "execution_count": 5,
   "id": "1917636b-df86-4b9a-b8b8-13a95c288c1b",
   "metadata": {},
   "outputs": [
    {
     "name": "stdout",
     "output_type": "stream",
     "text": [
      "Get dummy handle:\n",
      "Status code: 200\n",
      "Response body: {\n",
      "  \"handle\": \"21.TEST/test_1001\",\n",
      "  \"responseCode\": 1,\n",
      "  \"values\": [\n",
      "    {\n",
      "      \"data\": {\n",
      "        \"value\": \"https://example.org/location/1001\"\n",
      "      },\n",
      "      \"index\": 1,\n",
      "      \"type\": \"URL\"\n",
      "    }\n",
      "  ]\n",
      "}\n",
      "\n"
     ]
    }
   ],
   "source": [
    "response = requests.get(f\"{handle_api}/{handle_prefix}/{handle_id}\")\n",
    "print(\"Get dummy handle:\")\n",
    "print(\"Status code:\", response.status_code)\n",
    "print(\"Response body:\", response.text)"
   ]
  }
 ],
 "metadata": {
  "kernelspec": {
   "display_name": "Python 3 (ipykernel)",
   "language": "python",
   "name": "python3"
  },
  "language_info": {
   "codemirror_mode": {
    "name": "ipython",
    "version": 3
   },
   "file_extension": ".py",
   "mimetype": "text/x-python",
   "name": "python",
   "nbconvert_exporter": "python",
   "pygments_lexer": "ipython3",
   "version": "3.13.5"
  }
 },
 "nbformat": 4,
 "nbformat_minor": 5
}
