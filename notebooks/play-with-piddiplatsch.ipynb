{
 "cells": [
  {
   "cell_type": "markdown",
   "id": "c4b192b0-ea5b-4a78-9357-57494b64f01a",
   "metadata": {},
   "source": [
    "# Play with Piddiplatsch"
   ]
  },
  {
   "cell_type": "code",
   "execution_count": 1,
   "id": "31ba2a83-4344-456e-bf8a-98624b96f409",
   "metadata": {},
   "outputs": [],
   "source": [
    "import requests\n",
    "import json"
   ]
  },
  {
   "cell_type": "markdown",
   "id": "e5e658b1-4051-4c6c-a325-ae55084044e3",
   "metadata": {},
   "source": [
    "## Check dummy handle service"
   ]
  },
  {
   "cell_type": "code",
   "execution_count": 2,
   "id": "7a901874-1937-4ff5-b215-3ad246c077f0",
   "metadata": {},
   "outputs": [],
   "source": [
    "# Base URL of the Handle API\n",
    "handle_api = \"http://localhost:5000/api/handles\"\n",
    "handle_prefix = \"21.T11148\""
   ]
  },
  {
   "cell_type": "markdown",
   "id": "ee54868b-f6a9-4bc2-b57d-5106102bc0c7",
   "metadata": {},
   "source": [
    "1. Check admin user"
   ]
  },
  {
   "cell_type": "code",
   "execution_count": 3,
   "id": "75fa744a-1075-4a02-be57-9c536a6af4dc",
   "metadata": {},
   "outputs": [
    {
     "name": "stdout",
     "output_type": "stream",
     "text": [
      "Admin user check:\n",
      "Status code: 200\n",
      "Response body: {\n",
      "  \"handle\": \"21.T11148/testuser\",\n",
      "  \"responseCode\": 1,\n",
      "  \"values\": [\n",
      "    {\n",
      "      \"data\": {\n",
      "        \"format\": \"admin\",\n",
      "        \"value\": {\n",
      "          \"handle\": \"0.NA/21.T11148\",\n",
      "          \"index\": \"200\",\n",
      "          \"permissions\": \"011111110011\"\n",
      "        }\n",
      "      },\n",
      "      \"index\": 100,\n",
      "      \"type\": \"HS_ADMIN\"\n",
      "    }\n",
      "  ]\n",
      "}\n",
      "\n"
     ]
    }
   ],
   "source": [
    "user = \"testuser\"\n",
    "response = requests.get(f\"{handle_api}/{handle_prefix}/{user}\")\n",
    "print(\"Admin user check:\")\n",
    "print(\"Status code:\", response.status_code)\n",
    "print(\"Response body:\", response.text)\n"
   ]
  },
  {
   "cell_type": "markdown",
   "id": "2d073931-7662-4ee2-8b12-3bb260a6c730",
   "metadata": {},
   "source": [
    "2. Register dummy handle"
   ]
  },
  {
   "cell_type": "code",
   "execution_count": 4,
   "id": "0689406e-cdb9-4435-ae39-65bf9c6d0eaf",
   "metadata": {},
   "outputs": [
    {
     "name": "stdout",
     "output_type": "stream",
     "text": [
      "Register dummy handle:\n",
      "Status code: 200\n",
      "Response body: {\n",
      "  \"handle\": \"21.T11148/test_1001\",\n",
      "  \"message\": \"Handle 21.T11148/test_1001 registered\",\n",
      "  \"responseCode\": 1\n",
      "}\n",
      "\n"
     ]
    }
   ],
   "source": [
    "handle_id = \"test_1001\"\n",
    "register_url = f\"{handle_api}/{handle_prefix}/{handle_id}?overwrite=true\"\n",
    "headers = {\"Content-Type\": \"application/json\"}\n",
    "payload = {\n",
    "    \"values\": [\n",
    "        {\n",
    "            \"index\": 1,\n",
    "            \"type\": \"URL\",\n",
    "            \"data\": {\n",
    "                \"value\": \"https://example.org/location/1001\"\n",
    "            }\n",
    "        }\n",
    "    ]\n",
    "}\n",
    "\n",
    "response = requests.put(register_url, headers=headers, data=json.dumps(payload))\n",
    "print(\"Register dummy handle:\")\n",
    "print(\"Status code:\", response.status_code)\n",
    "print(\"Response body:\", response.text)\n"
   ]
  },
  {
   "cell_type": "markdown",
   "id": "6d736dc8-2ae0-4312-923b-4e3ddb02cfdb",
   "metadata": {},
   "source": [
    "3. Get dummy handle"
   ]
  },
  {
   "cell_type": "code",
   "execution_count": 5,
   "id": "1917636b-df86-4b9a-b8b8-13a95c288c1b",
   "metadata": {},
   "outputs": [
    {
     "name": "stdout",
     "output_type": "stream",
     "text": [
      "Get dummy handle:\n",
      "Status code: 200\n",
      "Response body: {\n",
      "  \"handle\": \"21.T11148/test_1001\",\n",
      "  \"responseCode\": 1,\n",
      "  \"values\": [\n",
      "    {\n",
      "      \"data\": {\n",
      "        \"value\": \"https://example.org/location/1001\"\n",
      "      },\n",
      "      \"index\": 1,\n",
      "      \"type\": \"URL\"\n",
      "    }\n",
      "  ]\n",
      "}\n",
      "\n"
     ]
    }
   ],
   "source": [
    "response = requests.get(f\"{handle_api}/{handle_prefix}/{handle_id}\")\n",
    "print(\"Get dummy handle:\")\n",
    "print(\"Status code:\", response.status_code)\n",
    "print(\"Response body:\", response.text)"
   ]
  },
  {
   "cell_type": "markdown",
   "id": "ef5ebe59-c63c-482c-a9fb-7fcbb5143c5d",
   "metadata": {},
   "source": [
    "## Publish records to kafka and check produced handles\n",
    "\n",
    "Start kafka consumer on the terminal:\n",
    "\n",
    "```sh\n",
    "piddiplatsch --debug --logfile consume.log consume\n",
    "```"
   ]
  },
  {
   "cell_type": "markdown",
   "id": "e87f447f-04c4-4c5f-8a04-7d1188ea23c5",
   "metadata": {},
   "source": [
    "### Send message to kafka ... using CLI piddiplatsch"
   ]
  },
  {
   "cell_type": "code",
   "execution_count": 6,
   "id": "c94f162c-488f-4472-9d4d-52c613d45528",
   "metadata": {},
   "outputs": [
    {
     "name": "stdout",
     "output_type": "stream",
     "text": [
      "📤 Message delivered to CMIP7 [0]\n"
     ]
    }
   ],
   "source": [
    "! piddiplatsch send -p ../tests/testdata/CMIP6/CMIP6.ScenarioMIP.MPI-M.MPI-ESM1-2-LR.ssp126.r1i1p1f1.day.tasmin.gn.v20190710.json"
   ]
  },
  {
   "cell_type": "markdown",
   "id": "77f69098-1113-436e-bebf-e18d5ce64074",
   "metadata": {},
   "source": [
    "### Check if the handle was generated"
   ]
  },
  {
   "cell_type": "code",
   "execution_count": 7,
   "id": "c13fdfef-4195-4c9d-b780-203e0375c511",
   "metadata": {},
   "outputs": [
    {
     "name": "stdout",
     "output_type": "stream",
     "text": [
      "Get handle: CMIP6.ScenarioMIP.MPI-M.MPI-ESM1-2-LR.ssp126.r1i1p1f1.day.tasmin.gn.v20190710\n",
      "Status code: 200\n",
      "Response body: {\n",
      "  \"handle\": \"21.T11148/CMIP6.ScenarioMIP.MPI-M.MPI-ESM1-2-LR.ssp126.r1i1p1f1.day.tasmin.gn.v20190710\",\n",
      "  \"responseCode\": 1,\n",
      "  \"values\": [\n",
      "    {\n",
      "      \"data\": {\n",
      "        \"format\": \"admin\",\n",
      "        \"value\": {\n",
      "          \"handle\": \"0.NA/21.T11148\",\n",
      "          \"index\": \"200\",\n",
      "          \"permissions\": \"011111110011\"\n",
      "        }\n",
      "      },\n",
      "      \"index\": 100,\n",
      "      \"type\": \"HS_ADMIN\"\n",
      "    },\n",
      "    {\n",
      "      \"data\": \"https://api.stac.esgf.ceda.ac.uk/collections/CMIP6/items/CMIP6.ScenarioMIP.MPI-M.MPI-ESM1-2-LR.ssp126.r1i1p1f1.day.tasmin.gn.v20190710\",\n",
      "      \"index\": 1,\n",
      "      \"type\": \"URL\"\n",
      "    },\n",
      "    {\n",
      "      \"data\": null,\n",
      "      \"index\": 2,\n",
      "      \"type\": \"CHECKSUM\"\n",
      "    },\n",
      "    {\n",
      "      \"data\": \"Dataset\",\n",
      "      \"index\": 3,\n",
      "      \"type\": \"AGGREGATION_LEVEL\"\n",
      "    },\n",
      "    {\n",
      "      \"data\": \"CMIP6.ScenarioMIP.MPI-M.MPI-ESM1-2-LR.ssp126.r1i1p1f1.day.tasmin.gn.v20190710\",\n",
      "      \"index\": 4,\n",
      "      \"type\": \"DATASET_ID\"\n",
      "    },\n",
      "    {\n",
      "      \"data\": null,\n",
      "      \"index\": 5,\n",
      "      \"type\": \"DATASET_VERSION\"\n",
      "    },\n",
      "    {\n",
      "      \"data\": \"ceda.ac.uk\",\n",
      "      \"index\": 6,\n",
      "      \"type\": \"HOSTING_NODE\"\n",
      "    },\n",
      "    {\n",
      "      \"data\": \"\",\n",
      "      \"index\": 7,\n",
      "      \"type\": \"REPLICA_NODE\"\n",
      "    },\n",
      "    {\n",
      "      \"data\": \"\",\n",
      "      \"index\": 8,\n",
      "      \"type\": \"UNPUBLISHED_REPLICAS\"\n",
      "    },\n",
      "    {\n",
      "      \"data\": \"\",\n",
      "      \"index\": 9,\n",
      "      \"type\": \"UNPUBLISHED_HOSTS\"\n",
      "    }\n",
      "  ]\n",
      "}\n",
      "\n"
     ]
    }
   ],
   "source": [
    "handle_id = \"CMIP6.ScenarioMIP.MPI-M.MPI-ESM1-2-LR.ssp126.r1i1p1f1.day.tasmin.gn.v20190710\"\n",
    "\n",
    "response = requests.get(f\"{handle_api}/{handle_prefix}/{handle_id}\")\n",
    "print(f\"Get handle: {handle_id}\")\n",
    "print(\"Status code:\", response.status_code)\n",
    "print(\"Response body:\", response.text)"
   ]
  }
 ],
 "metadata": {
  "kernelspec": {
   "display_name": "Python 3 (ipykernel)",
   "language": "python",
   "name": "python3"
  },
  "language_info": {
   "codemirror_mode": {
    "name": "ipython",
    "version": 3
   },
   "file_extension": ".py",
   "mimetype": "text/x-python",
   "name": "python",
   "nbconvert_exporter": "python",
   "pygments_lexer": "ipython3",
   "version": "3.13.3"
  }
 },
 "nbformat": 4,
 "nbformat_minor": 5
}
