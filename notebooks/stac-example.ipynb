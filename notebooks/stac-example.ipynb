{
 "cells": [
  {
   "cell_type": "markdown",
   "id": "8b037986-42cf-404f-bf37-1e77bf448991",
   "metadata": {},
   "source": [
    "# STAC example"
   ]
  },
  {
   "cell_type": "code",
   "execution_count": 1,
   "id": "c874d673-e0d4-40ef-8705-8afdb1a9def9",
   "metadata": {},
   "outputs": [],
   "source": [
    "from pystac_client import Client"
   ]
  },
  {
   "cell_type": "code",
   "execution_count": 2,
   "id": "8ed1cd13-87ba-44ca-938f-0fd5ffb6882f",
   "metadata": {},
   "outputs": [],
   "source": [
    "catalog = Client.open(\"https://api.stac.esgf.ceda.ac.uk\")"
   ]
  },
  {
   "cell_type": "markdown",
   "id": "1e4970b2-a792-4411-bd78-add695b78ceb",
   "metadata": {},
   "source": [
    "## Seach by properties"
   ]
  },
  {
   "cell_type": "code",
   "execution_count": 3,
   "id": "de00e5f2-9804-4075-9697-7eaaa8e5d410",
   "metadata": {},
   "outputs": [],
   "source": [
    "search = catalog.search(\n",
    "    collections=[\"cmip6\"],\n",
    "    query={\n",
    "        \"activity_id\": {\"eq\": \"ScenarioMIP\"},\n",
    "        \"institution_id\": {\"eq\": \"UA\"},\n",
    "        \"source_id\": {\"eq\": \"MCM-UA-1-0\"},\n",
    "        \"experiment_id\": {\"eq\": \"ssp585\"},\n",
    "        \"variant_label\": {\"eq\": \"r1i1p1f2\"},\n",
    "        \"table_id\": {\"eq\": \"Amon\"},\n",
    "        \"variable_id\": {\"eq\": \"pr\"},\n",
    "        \"grid_label\": {\"eq\": \"gn\"}\n",
    "    }\n",
    ")"
   ]
  },
  {
   "cell_type": "code",
   "execution_count": 4,
   "id": "700d1f98-a9d0-4af2-b69a-b15bfdc8e00b",
   "metadata": {},
   "outputs": [
    {
     "name": "stderr",
     "output_type": "stream",
     "text": [
      "/Users/pingu/miniforge3/envs/piddiplatsch2/lib/python3.13/site-packages/pystac_client/item_search.py:771: UserWarning: numberMatched or context.matched not in response\n",
      "  warnings.warn(\"numberMatched or context.matched not in response\")\n"
     ]
    }
   ],
   "source": [
    "search.matched()"
   ]
  },
  {
   "cell_type": "code",
   "execution_count": 5,
   "id": "09aa3ac5-005c-4af8-8a27-4317dc966700",
   "metadata": {},
   "outputs": [
    {
     "name": "stdout",
     "output_type": "stream",
     "text": [
      "Matched items: 1\n"
     ]
    }
   ],
   "source": [
    "count = sum(1 for _ in search.items())\n",
    "print(\"Matched items:\", count)"
   ]
  },
  {
   "cell_type": "code",
   "execution_count": 6,
   "id": "440aa8a0-2153-4fe5-ba53-fc80d6bddeac",
   "metadata": {},
   "outputs": [
    {
     "name": "stdout",
     "output_type": "stream",
     "text": [
      "CMIP6.ScenarioMIP.UA.MCM-UA-1-0.ssp585.r1i1p1f2.Amon.pr.gn.v20190731 dict_items([('title', 'CMIP6.ScenarioMIP.UA.MCM-UA-1-0.ssp585.r1i1p1f2.Amon.pr.gn.v20190731'), ('description', None), ('datetime', None), ('created', None), ('updated', '2025-01-30T10:24:03.415937Z'), ('start_datetime', '2015-01-17T00:00:00Z'), ('end_datetime', '2100-12-17T00:00:00Z'), ('license', None), ('providers', None), ('platform', None), ('instruments', None), ('constellation', None), ('mission', None), ('gsd', None), ('access', ['HTTPServer']), ('retracted', False), ('product', 'model-output'), ('project', 'CMIP6'), ('model_cohort', 'Registered'), ('realm', ['atmos']), ('citation_url', 'http://cera-www.dkrz.de/WDCC/meta/CMIP6/CMIP6.ScenarioMIP.UA.MCM-UA-1-0.ssp585.r1i1p1f2.Amon.pr.gn.v20190731.json'), ('variable', 'precipitation_flux'), ('variable_long_name', 'Precipitation                                         '), ('variable_units', 'kg m-2 s-1'), ('cf_standard_name', 'precipitation_flux'), ('activity_id', 'ScenarioMIP'), ('data_specs_version', '01.00.28'), ('experiment_title', 'update of RCP8.5 based on SSP5'), ('frequency', 'mon'), ('further_info_url', 'https://furtherinfo.es-doc.org/CMIP6.UA.MCM-UA-1-0.ssp585.none.r1i1p1f2      '), ('grid', 'lat-lon'), ('grid_label', 'gn'), ('institution_id', 'UA'), ('mip_era', 'CMIP6'), ('source_id', 'MCM-UA-1-0'), ('source_type', 'AOGCM'), ('experiment_id', 'ssp585'), ('sub_experiment_id', 'none'), ('nominal_resolution', '250 km'), ('table_id', 'Amon'), ('variable_id', 'pr'), ('variant_label', 'r1i1p1f2')])\n"
     ]
    }
   ],
   "source": [
    "item = next(search.items())\n",
    "print(item.id, item.properties.items())"
   ]
  },
  {
   "cell_type": "code",
   "execution_count": 7,
   "id": "70b68c64-225a-4e42-9274-9eaa3c4e098a",
   "metadata": {},
   "outputs": [
    {
     "data": {
      "text/plain": [
       "'https://api.stac.esgf.ceda.ac.uk/collections/cmip6/items/CMIP6.ScenarioMIP.UA.MCM-UA-1-0.ssp585.r1i1p1f2.Amon.pr.gn.v20190731'"
      ]
     },
     "execution_count": 7,
     "metadata": {},
     "output_type": "execute_result"
    }
   ],
   "source": [
    "item.get_self_href()"
   ]
  },
  {
   "cell_type": "markdown",
   "id": "0688cd1d-80fe-43f8-9b71-6dd6de986612",
   "metadata": {},
   "source": [
    "## Search dataset IDs"
   ]
  },
  {
   "cell_type": "code",
   "execution_count": 8,
   "id": "f277b5aa-7e74-4ccb-a6ac-ed648b5fafe5",
   "metadata": {},
   "outputs": [],
   "source": [
    "base_id = \"CMIP6.ScenarioMIP.UA.MCM-UA-1-0.ssp585.r1i1p1f2.Amon.pr.gn.v\"\n",
    "\n",
    "search = catalog.search(\n",
    "    collections=[\"cmip6\"],\n",
    "    query={\"id\": {\"startsWith\": base_id}}\n",
    ")"
   ]
  }
 ],
 "metadata": {
  "kernelspec": {
   "display_name": "Python 3 (ipykernel)",
   "language": "python",
   "name": "python3"
  },
  "language_info": {
   "codemirror_mode": {
    "name": "ipython",
    "version": 3
   },
   "file_extension": ".py",
   "mimetype": "text/x-python",
   "name": "python",
   "nbconvert_exporter": "python",
   "pygments_lexer": "ipython3",
   "version": "3.13.5"
  }
 },
 "nbformat": 4,
 "nbformat_minor": 5
}
